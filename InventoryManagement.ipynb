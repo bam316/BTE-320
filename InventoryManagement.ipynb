{
  "nbformat": 4,
  "nbformat_minor": 0,
  "metadata": {
    "colab": {
      "provenance": [],
      "authorship_tag": "ABX9TyMrx3GzXEE66k6xRbpLLvaS",
      "include_colab_link": true
    },
    "kernelspec": {
      "name": "python3",
      "display_name": "Python 3"
    },
    "language_info": {
      "name": "python"
    }
  },
  "cells": [
    {
      "cell_type": "markdown",
      "metadata": {
        "id": "view-in-github",
        "colab_type": "text"
      },
      "source": [
        "<a href=\"https://colab.research.google.com/github/bam316/BTE-320/blob/main/InventoryManagement.ipynb\" target=\"_parent\"><img src=\"https://colab.research.google.com/assets/colab-badge.svg\" alt=\"Open In Colab\"/></a>"
      ]
    },
    {
      "cell_type": "code",
      "execution_count": 7,
      "metadata": {
        "colab": {
          "base_uri": "https://localhost:8080/"
        },
        "id": "oUvf9J9ymbLA",
        "outputId": "9dca6cc5-567b-4c9b-c1d5-b07326390d1f"
      },
      "outputs": [
        {
          "output_type": "stream",
          "name": "stdout",
          "text": [
            "The annual demand is (units/year): 1000\n",
            "The reorder cost is ($/order): 50\n",
            "The holding cost is ($/unit/year): 10\n",
            "The Economic Order Quantity is 100.0 units\n"
          ]
        }
      ],
      "source": [
        "#Inputs\n",
        "Demand = input(\"The annual demand is (units/year): \")\n",
        "Demand = int(Demand)\n",
        "\n",
        "Supply = input(\"The reorder cost is ($/order): \")\n",
        "Supply = float(Supply)\n",
        "\n",
        "HoldingCost = input(\"The holding cost is ($/unit/year): \")\n",
        "HoldingCost = float(HoldingCost)\n",
        "\n",
        "#Processes\n",
        "EOQ = (2*Demand*Supply/HoldingCost) ** (1/2)\n",
        "\n",
        "#Output\n",
        "print(f\"The Economic Order Quantity is {EOQ} units\")"
      ]
    }
  ]
}