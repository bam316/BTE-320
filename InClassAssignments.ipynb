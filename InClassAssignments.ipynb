{
  "nbformat": 4,
  "nbformat_minor": 0,
  "metadata": {
    "colab": {
      "provenance": [],
      "authorship_tag": "ABX9TyNK/N2AvFCDXEestdaYLnk6",
      "include_colab_link": true
    },
    "kernelspec": {
      "name": "python3",
      "display_name": "Python 3"
    },
    "language_info": {
      "name": "python"
    }
  },
  "cells": [
    {
      "cell_type": "markdown",
      "metadata": {
        "id": "view-in-github",
        "colab_type": "text"
      },
      "source": [
        "<a href=\"https://colab.research.google.com/github/bam316/BTE-320/blob/main/InClassAssignments.ipynb\" target=\"_parent\"><img src=\"https://colab.research.google.com/assets/colab-badge.svg\" alt=\"Open In Colab\"/></a>"
      ]
    },
    {
      "cell_type": "code",
      "source": [
        "# Inputs\n",
        "sales = input(\"Enter sales ($): \")\n",
        "sales = float(sales)\n",
        "\n",
        "cogs_pct = input(\"Enter Cost of Goods (%): \")\n",
        "cogs_pct = float(cogs_pct)\n",
        "\n",
        "taxrate = input(\"Enter Tax Rate (%): \")\n",
        "taxrate = float(taxrate)\n",
        "\n",
        "# Processes: Caluclate COGS and GP + Taxes and Net Income\n",
        "cogs = sales * cogs_pct / 100\n",
        "gp = sales - cogs\n",
        "\n",
        "Taxes = gp*taxrate/100\n",
        "Net_Income = (gp-Taxes)\n",
        "\n",
        "# Ouputs: display cogs and gp + Net Income and Taxes\n",
        "print(f\"Cost of Goods sold: ${cogs}\")\n",
        "print(f\"Gross Profit: ${gp}\")\n",
        "\n",
        "print(Net_Income)\n",
        "print(Taxes)"
      ],
      "metadata": {
        "colab": {
          "base_uri": "https://localhost:8080/"
        },
        "id": "dn0a5hQ2_9pt",
        "outputId": "5de57211-6ebf-4d84-9483-a35da9c84092"
      },
      "execution_count": null,
      "outputs": [
        {
          "output_type": "stream",
          "name": "stdout",
          "text": [
            "Enter sales ($): 12000\n",
            "Enter Cost of Goods (%): 40\n",
            "Enter Tax Rate (%): 30\n",
            "Cost of Goods sold: $4800.0\n",
            "Gross Profit: $7200.0\n",
            "5040.0\n",
            "2160.0\n"
          ]
        }
      ]
    },
    {
      "cell_type": "code",
      "source": [
        "#Inputs\n",
        "Demand = input(\"The annual demand is (units/year): \")\n",
        "Demand = int(Demand)\n",
        "\n",
        "Supply = input(\"The reorder cost is ($/order): \")\n",
        "Supply = float(Supply)\n",
        "\n",
        "HoldingCost = input(\"The holding cost is ($/unit/year): \")\n",
        "HoldingCost = float(HoldingCost)\n",
        "\n",
        "#Processes\n",
        "EOQ = (2*Demand*Supply/HoldingCost) ** (1/2)\n",
        "\n",
        "#Output\n",
        "print(f\"The Economic Order Quantity is {EOQ} units\")"
      ],
      "metadata": {
        "colab": {
          "base_uri": "https://localhost:8080/"
        },
        "id": "nFxwQHzUs6zn",
        "outputId": "12844404-b5cb-44e4-e04a-8a9613afd264"
      },
      "execution_count": null,
      "outputs": [
        {
          "output_type": "stream",
          "name": "stdout",
          "text": [
            "The annual demand is (units/year): 1000\n",
            "The reorder cost is ($/order): 50\n",
            "The holding cost is ($/unit/year): 10\n",
            "The Economic Order Quantity is 100.0 units\n"
          ]
        }
      ]
    },
    {
      "cell_type": "code",
      "source": [
        "#Inputs\n",
        "x = input(\"Enter X Value: \")\n",
        "x = float(x)\n",
        "y = input(\"Enter Y Value: \")\n",
        "y = float(y)\n",
        "Operator = input(\"Operator is: \")\n",
        "\n",
        "#Processes\n",
        "if Operator == '*':\n",
        "  print(x*y)\n",
        "elif Operator == '/':\n",
        "  print(x/y)\n",
        "elif Operator == '+':\n",
        "  print(x+y)\n",
        "elif Operator == '-':\n",
        "  print(x-y)\n",
        "elif Operator == '//':\n",
        "  print(x//y)\n",
        "elif Operator == '**':\n",
        "  print(x**y)\n",
        "elif Operator == '%':\n",
        "  print(x%y)\n",
        "else:\n",
        "  print(\"Invalid Operator\")"
      ],
      "metadata": {
        "colab": {
          "base_uri": "https://localhost:8080/"
        },
        "id": "1nYX6XuVqGvy",
        "outputId": "882a7cc1-a43d-4810-9fae-1845e1ba3599"
      },
      "execution_count": 4,
      "outputs": [
        {
          "output_type": "stream",
          "name": "stdout",
          "text": [
            "Enter X Value: 4\n",
            "Enter Y Value: 5\n",
            "Operator is: d\n",
            "Invalid Operator\n"
          ]
        }
      ]
    }
  ]
}